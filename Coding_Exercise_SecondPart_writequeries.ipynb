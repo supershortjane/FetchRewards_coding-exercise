{
 "cells": [
  {
   "cell_type": "code",
   "execution_count": 1,
   "id": "46d9b2e8",
   "metadata": {},
   "outputs": [],
   "source": [
    "import sqlite3\n",
    "from sqlite3 import Error\n",
    "import pandas as pd\n",
    "import numpy as np\n",
    "\n",
    "def create_connection(db_file):\n",
    "    \"\"\" create a database connection to the SQLite database\n",
    "        specified by db_file\n",
    "    :param db_file: database file\n",
    "    :return: Connection object or None\n",
    "    \"\"\"\n",
    "    conn = None\n",
    "    try:\n",
    "        conn = sqlite3.connect(db_file)\n",
    "        return conn\n",
    "    except Error as e:\n",
    "        print(e)\n",
    "\n",
    "    return conn\n",
    "\n",
    "def create_table(conn, create_table_sql):\n",
    "    \"\"\" create a table from the create_table_sql statement\n",
    "    :param conn: Connection object\n",
    "    :param create_table_sql: a CREATE TABLE statement\n",
    "    :return:\n",
    "    \"\"\"\n",
    "    try:\n",
    "        c = conn.cursor()\n",
    "        c.execute(create_table_sql)\n",
    "    except Error as e:\n",
    "        print(e)"
   ]
  },
  {
   "cell_type": "markdown",
   "id": "3a7e2935",
   "metadata": {},
   "source": [
    "### Q1. What are the top 5 brands by receipts scanned for most recent month?"
   ]
  },
  {
   "cell_type": "code",
   "execution_count": 2,
   "id": "933a99ca",
   "metadata": {},
   "outputs": [],
   "source": [
    "# Q1\n",
    "database = \"fetchrewards.db\"\n",
    "conn = create_connection(database)\n",
    "cur = conn.cursor()\n",
    "cur.execute(\"SELECT i.brandCode , strftime('%m',datetime(r.dateScanned/1000,'unixepoch')), COUNT(*) \\\n",
    "             FROM scanned_item i \\\n",
    "             LEFT JOIN receipts r   \\\n",
    "             ON i.receipt_id=r._id \\\n",
    "             WHERE i.brandCode IS NOT NULL  AND \\\n",
    "             strftime('%m',datetime(r.dateScanned/1000,'unixepoch'))=( \\\n",
    "             SELECT  strftime('%m',(max(datetime(r.dateScanned/1000,'unixepoch')))) \\\n",
    "             from scanned_item i \\\n",
    "             LEFT JOIN receipts r \\\n",
    "             ON i.receipt_id=r._id \\\n",
    "             WHERE i.brandCode IS NOT NULL)\\\n",
    "             GROUP BY i.brandCode \\\n",
    "             ORDER BY COUNT(*) DESC\")\n",
    "rows = cur.fetchall()\n",
    "conn.close()"
   ]
  },
  {
   "cell_type": "code",
   "execution_count": 3,
   "id": "0c59cd06",
   "metadata": {},
   "outputs": [
    {
     "data": {
      "text/plain": [
       "[('BRAND', '02', 3), ('MISSION', '02', 2), ('VIVA', '02', 1)]"
      ]
     },
     "execution_count": 3,
     "metadata": {},
     "output_type": "execute_result"
    }
   ],
   "source": [
    "#result: \n",
    "#There are only top 3 brands for most recent month. There are 'BRAND','MISSION' and 'VIVA'\n",
    "rows"
   ]
  },
  {
   "cell_type": "markdown",
   "id": "988ac41f",
   "metadata": {},
   "source": [
    "### Q2. How does the ranking of the top 5 brands by receipts scanned for the recent month compare to the ranking for the previous month?"
   ]
  },
  {
   "cell_type": "code",
   "execution_count": 4,
   "id": "2316f62d",
   "metadata": {},
   "outputs": [],
   "source": [
    "# Q2: previous month is 01\n",
    "database = \"fetchrewards.db\"\n",
    "conn = create_connection(database)\n",
    "cur = conn.cursor()\n",
    "cur.execute(\"with temp(code, count, rank) as \\\n",
    "            (SELECT i.brandCode , COUNT(*) , RANK() OVER (ORDER BY COUNT(*) DESC) \\\n",
    "             FROM scanned_item i \\\n",
    "             LEFT JOIN receipts r   \\\n",
    "             ON i.receipt_id=r._id \\\n",
    "             WHERE i.brandCode IS NOT NULL   AND \\\n",
    "             strftime('%m',datetime(r.dateScanned/1000,'unixepoch'))=( \\\n",
    "             SELECT  strftime('%m', date(max(datetime(r.dateScanned/1000,'unixepoch')), '-1 months')) \\\n",
    "             from scanned_item i \\\n",
    "             LEFT JOIN receipts r \\\n",
    "             ON i.receipt_id=r._id \\\n",
    "             WHERE i.brandCode IS NOT NULL) \\\n",
    "             GROUP BY i.brandCode \\\n",
    "             ORDER BY COUNT(*) DESC) \\\n",
    "             select * from temp \\\n",
    "             where code in ('BRAND','MISSION','VIVA')\")\n",
    "rows = cur.fetchall()\n",
    "conn.close()"
   ]
  },
  {
   "cell_type": "code",
   "execution_count": 5,
   "id": "0b7b3a59",
   "metadata": {},
   "outputs": [
    {
     "data": {
      "text/plain": [
       "[('BRAND', 19, 26), ('MISSION', 16, 35)]"
      ]
     },
     "execution_count": 5,
     "metadata": {},
     "output_type": "execute_result"
    }
   ],
   "source": [
    "#result\n",
    "#The rank of the brands('BRAND','MISSION') are 26 and 35 respectively in the previous month. \n",
    "#There is no receipt that contain any item produced by'VIVA' in the previous month. \n",
    "rows"
   ]
  },
  {
   "cell_type": "markdown",
   "id": "7d74a175",
   "metadata": {},
   "source": [
    "### Q3. When considering average spend from receipts with 'rewardsReceiptStatus’ of ‘Accepted’ or ‘Rejected’, which is greater?"
   ]
  },
  {
   "cell_type": "code",
   "execution_count": 6,
   "id": "0789085d",
   "metadata": {},
   "outputs": [],
   "source": [
    "# Q3: Assume status, \"Finished\" is equal to status, \"Accepted\".\n",
    "database = \"fetchrewards.db\"\n",
    "conn = create_connection(database)\n",
    "cur = conn.cursor()\n",
    "cur.execute(\"SELECT avg(totalSpent) \\\n",
    "             from receipts \\\n",
    "             WHERE rewardsReceiptStatus='FINISHED'\")\n",
    "rows1 = cur.fetchall()\n",
    "\n",
    "cur.execute(\"SELECT avg(totalSpent) \\\n",
    "             from receipts \\\n",
    "             WHERE rewardsReceiptStatus='REJECTED'\")\n",
    "rows2 = cur.fetchall()\n",
    "\n",
    "conn.close()"
   ]
  },
  {
   "cell_type": "code",
   "execution_count": 7,
   "id": "b1f8c6fd",
   "metadata": {},
   "outputs": [
    {
     "data": {
      "text/plain": [
       "[(80.85430501930502,)]"
      ]
     },
     "execution_count": 7,
     "metadata": {},
     "output_type": "execute_result"
    }
   ],
   "source": [
    "#result\n",
    "#The average spend from receipts with 'rewardsReceiptStatus’ of ‘Accepted’ is 80.85\n",
    "rows1"
   ]
  },
  {
   "cell_type": "code",
   "execution_count": 8,
   "id": "6da3ed84",
   "metadata": {},
   "outputs": [
    {
     "data": {
      "text/plain": [
       "[(23.326056338028184,)]"
      ]
     },
     "execution_count": 8,
     "metadata": {},
     "output_type": "execute_result"
    }
   ],
   "source": [
    "#result\n",
    "#The average spend from receipts with 'rewardsReceiptStatus’ of ‘Rejected’ is 23.33\n",
    "rows2"
   ]
  },
  {
   "cell_type": "markdown",
   "id": "6e3fa22e",
   "metadata": {},
   "source": [
    "### Q4. When considering total number of items purchased from receipts with 'rewardsReceiptStatus’ of ‘Accepted’ or ‘Rejected’, which is greater?"
   ]
  },
  {
   "cell_type": "code",
   "execution_count": 9,
   "id": "8cd7eea8",
   "metadata": {},
   "outputs": [],
   "source": [
    "# Q4 Assume status, \"Finished\" is equal to status, \"Accepted\".\n",
    "database = \"fetchrewards.db\"\n",
    "conn = create_connection(database)\n",
    "cur = conn.cursor()\n",
    "cur.execute(\"SELECT SUM(purchasedItemCount) \\\n",
    "             from receipts \\\n",
    "             WHERE rewardsReceiptStatus='FINISHED'\")\n",
    "rows1 = cur.fetchall()\n",
    "\n",
    "cur.execute(\"SELECT SUM(purchasedItemCount) \\\n",
    "             from receipts \\\n",
    "             WHERE rewardsReceiptStatus='REJECTED'\")\n",
    "rows2 = cur.fetchall()\n",
    "conn.close()"
   ]
  },
  {
   "cell_type": "code",
   "execution_count": 10,
   "id": "5b007c9e",
   "metadata": {},
   "outputs": [
    {
     "data": {
      "text/plain": [
       "[(8184.0,)]"
      ]
     },
     "execution_count": 10,
     "metadata": {},
     "output_type": "execute_result"
    }
   ],
   "source": [
    "#result\n",
    "#The total number of item purchased from receipts with 'rewardsReceiptStatus’ of ‘Accepted’ is 8184\n",
    "rows1"
   ]
  },
  {
   "cell_type": "code",
   "execution_count": 11,
   "id": "25ae9238",
   "metadata": {},
   "outputs": [
    {
     "data": {
      "text/plain": [
       "[(173.0,)]"
      ]
     },
     "execution_count": 11,
     "metadata": {},
     "output_type": "execute_result"
    }
   ],
   "source": [
    "#The total number of item purchased from receipts with 'rewardsReceiptStatus’ of ‘Rejected’ is 173\n",
    "rows2"
   ]
  },
  {
   "cell_type": "markdown",
   "id": "722dfcf3",
   "metadata": {},
   "source": [
    "### Q5. Which brand has the most spend among users who were created within the past 6 months?"
   ]
  },
  {
   "cell_type": "code",
   "execution_count": 12,
   "id": "de9f1848",
   "metadata": {},
   "outputs": [],
   "source": [
    "#Q5\n",
    "\n",
    "database = \"fetchrewards.db\"\n",
    "conn = create_connection(database)\n",
    "cur = conn.cursor()\n",
    "cur.execute(\"SELECT i.brandCode,SUM(r.totalSpent), u._id \\\n",
    "             FROM scanned_item i \\\n",
    "             LEFT JOIN receipts r   \\\n",
    "             ON i.receipt_id=r._id \\\n",
    "             LEFT JOIN users u\\\n",
    "             on r.userId=u._id \\\n",
    "             where u._id in \\\n",
    "            (SELECT _id \\\n",
    "             FROM USERS \\\n",
    "             WHERE date(datetime(createdDate/1000,'unixepoch')) > \\\n",
    "            (select date(max(datetime(createdDate/1000,'unixepoch')), '-6 months') \\\n",
    "             FROM USERS )) AND\\\n",
    "             i.brandCode IS NOT NULL \\\n",
    "             GROUP BY i.brandCode \\\n",
    "             ORDER BY SUM(r.totalSpent) desc limit 1\")\n",
    "rows = cur.fetchall()\n",
    "conn.close()"
   ]
  },
  {
   "cell_type": "code",
   "execution_count": 13,
   "id": "3a5b1771",
   "metadata": {},
   "outputs": [
    {
     "data": {
      "text/plain": [
       "[('BEN AND JERRYS', 197337.68000000023, '60023de5fb296c121a81b955')]"
      ]
     },
     "execution_count": 13,
     "metadata": {},
     "output_type": "execute_result"
    }
   ],
   "source": [
    "#result\n",
    "#'BEN AND JERRYS' is the brand that has  the most spend among users who were created within the past 6 months\n",
    "rows"
   ]
  },
  {
   "cell_type": "markdown",
   "id": "7398af91",
   "metadata": {},
   "source": [
    "### Q6. Which brand has the most transactions among users who were created within the past 6 months?"
   ]
  },
  {
   "cell_type": "code",
   "execution_count": 14,
   "id": "373327c2",
   "metadata": {},
   "outputs": [],
   "source": [
    "#Q6 \n",
    "\n",
    "database = \"fetchrewards.db\"\n",
    "conn = create_connection(database)\n",
    "cur = conn.cursor()\n",
    "cur.execute(\"SELECT i.brandCode, u._id, COUNT(*) \\\n",
    "            FROM scanned_item i \\\n",
    "            LEFT JOIN receipts r   \\\n",
    "            ON i.receipt_id=r._id \\\n",
    "            LEFT JOIN users u\\\n",
    "            on r.userId=u._id \\\n",
    "            where u._id in \\\n",
    "            (SELECT _id \\\n",
    "             FROM USERS \\\n",
    "             WHERE date(datetime(createdDate/1000,'unixepoch')) > \\\n",
    "            (select date(max(datetime(createdDate/1000,'unixepoch')), '-6 months') \\\n",
    "             FROM USERS )) AND\\\n",
    "             i.brandCode IS NOT NULL \\\n",
    "            GROUP BY i.brandCode \\\n",
    "            ORDER BY COUNT(*) DESC limit 1\")\n",
    "rows = cur.fetchall()\n",
    "conn.close()"
   ]
  },
  {
   "cell_type": "code",
   "execution_count": 15,
   "id": "5602eeba",
   "metadata": {},
   "outputs": [
    {
     "data": {
      "text/plain": [
       "[('HY-VEE', '6000b75bbe5fc96dfee1d4d3', 291)]"
      ]
     },
     "execution_count": 15,
     "metadata": {},
     "output_type": "execute_result"
    }
   ],
   "source": [
    "#result\n",
    "#'HY-VEE' is the brand that has  the most spend among users who were created within the past 6 months\n",
    "rows"
   ]
  }
 ],
 "metadata": {
  "kernelspec": {
   "display_name": "Python 3 (ipykernel)",
   "language": "python",
   "name": "python3"
  },
  "language_info": {
   "codemirror_mode": {
    "name": "ipython",
    "version": 3
   },
   "file_extension": ".py",
   "mimetype": "text/x-python",
   "name": "python",
   "nbconvert_exporter": "python",
   "pygments_lexer": "ipython3",
   "version": "3.9.11"
  }
 },
 "nbformat": 4,
 "nbformat_minor": 5
}
